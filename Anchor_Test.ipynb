{
 "cells": [
  {
   "cell_type": "code",
   "execution_count": 38,
   "metadata": {},
   "outputs": [
    {
     "name": "stdout",
     "output_type": "stream",
     "text": [
      "The autoreload extension is already loaded. To reload it, use:\n",
      "  %reload_ext autoreload\n"
     ]
    }
   ],
   "source": [
    "from __future__ import print_function\n",
    "import numpy as np\n",
    "np.random.seed(1)\n",
    "import sys\n",
    "import sklearn\n",
    "import sklearn.ensemble\n",
    "%load_ext autoreload\n",
    "%autoreload 2\n",
    "from anchor import utils\n",
    "from anchor import anchor_tabular"
   ]
  },
  {
   "cell_type": "code",
   "execution_count": 6,
   "metadata": {},
   "outputs": [],
   "source": [
    "dataset_folder = '/home/spenser/Downloads/'\n",
    "dataset = utils.load_dataset('adult', dataset_folder=dataset_folder)"
   ]
  },
  {
   "cell_type": "code",
   "execution_count": 8,
   "metadata": {},
   "outputs": [],
   "source": [
    "\n",
    "explainer = anchor_tabular.AnchorTabularExplainer(dataset.class_names, dataset.feature_names, dataset.data, dataset.categorical_names)\n",
    "explainer.fit(dataset.train, dataset.labels_train, dataset.validation, dataset.labels_validation)"
   ]
  },
  {
   "cell_type": "code",
   "execution_count": 33,
   "metadata": {},
   "outputs": [
    {
     "ename": "AttributeError",
     "evalue": "'list' object has no attribute 'dtype'",
     "output_type": "error",
     "traceback": [
      "\u001b[0;31m---------------------------------------------------------------------------\u001b[0m",
      "\u001b[0;31mAttributeError\u001b[0m                            Traceback (most recent call last)",
      "\u001b[0;32m<ipython-input-33-086e49047474>\u001b[0m in \u001b[0;36m<module>\u001b[0;34m()\u001b[0m\n\u001b[0;32m----> 1\u001b[0;31m \u001b[0mdataset\u001b[0m\u001b[0;34m.\u001b[0m\u001b[0mclass_names\u001b[0m\u001b[0;34m.\u001b[0m\u001b[0mdtype\u001b[0m\u001b[0;34m\u001b[0m\u001b[0m\n\u001b[0m",
      "\u001b[0;31mAttributeError\u001b[0m: 'list' object has no attribute 'dtype'"
     ]
    }
   ],
   "source": [
    "dataset.class_names.dtype"
   ]
  },
  {
   "cell_type": "code",
   "execution_count": 34,
   "metadata": {},
   "outputs": [
    {
     "ename": "AttributeError",
     "evalue": "'list' object has no attribute 'dtype'",
     "output_type": "error",
     "traceback": [
      "\u001b[0;31m---------------------------------------------------------------------------\u001b[0m",
      "\u001b[0;31mAttributeError\u001b[0m                            Traceback (most recent call last)",
      "\u001b[0;32m<ipython-input-34-964d7283db1d>\u001b[0m in \u001b[0;36m<module>\u001b[0;34m()\u001b[0m\n\u001b[0;32m----> 1\u001b[0;31m \u001b[0mdataset\u001b[0m\u001b[0;34m.\u001b[0m\u001b[0mfeature_names\u001b[0m\u001b[0;34m.\u001b[0m\u001b[0mdtype\u001b[0m\u001b[0;34m\u001b[0m\u001b[0m\n\u001b[0m",
      "\u001b[0;31mAttributeError\u001b[0m: 'list' object has no attribute 'dtype'"
     ]
    }
   ],
   "source": [
    "dataset.feature_names.dtype"
   ]
  },
  {
   "cell_type": "code",
   "execution_count": 35,
   "metadata": {},
   "outputs": [
    {
     "data": {
      "text/plain": [
       "dtype('float64')"
      ]
     },
     "execution_count": 35,
     "metadata": {},
     "output_type": "execute_result"
    }
   ],
   "source": [
    "dataset.data.dtype"
   ]
  },
  {
   "cell_type": "code",
   "execution_count": 37,
   "metadata": {},
   "outputs": [
    {
     "data": {
      "text/plain": [
       "{1: ['?',\n",
       "  'Federal-gov',\n",
       "  'Local-gov',\n",
       "  'Never-worked',\n",
       "  'Private',\n",
       "  'Self-emp-inc',\n",
       "  'Self-emp-not-inc',\n",
       "  'State-gov',\n",
       "  'Without-pay'],\n",
       " 2: ['10th',\n",
       "  '11th',\n",
       "  '12th',\n",
       "  '1st-4th',\n",
       "  '5th-6th',\n",
       "  '7th-8th',\n",
       "  '9th',\n",
       "  'Assoc-acdm',\n",
       "  'Assoc-voc',\n",
       "  'Bachelors',\n",
       "  'Doctorate',\n",
       "  'HS-grad',\n",
       "  'Masters',\n",
       "  'Preschool',\n",
       "  'Prof-school',\n",
       "  'Some-college'],\n",
       " 3: ['Divorced',\n",
       "  'Married-AF-spouse',\n",
       "  'Married-civ-spouse',\n",
       "  'Married-spouse-absent',\n",
       "  'Never-married',\n",
       "  'Separated',\n",
       "  'Widowed'],\n",
       " 4: ['?',\n",
       "  'Adm-clerical',\n",
       "  'Armed-Forces',\n",
       "  'Craft-repair',\n",
       "  'Exec-managerial',\n",
       "  'Farming-fishing',\n",
       "  'Handlers-cleaners',\n",
       "  'Machine-op-inspct',\n",
       "  'Other-service',\n",
       "  'Priv-house-serv',\n",
       "  'Prof-specialty',\n",
       "  'Protective-serv',\n",
       "  'Sales',\n",
       "  'Tech-support',\n",
       "  'Transport-moving'],\n",
       " 5: ['Husband',\n",
       "  'Not-in-family',\n",
       "  'Other-relative',\n",
       "  'Own-child',\n",
       "  'Unmarried',\n",
       "  'Wife'],\n",
       " 6: ['Amer-Indian-Eskimo', 'Asian-Pac-Islander', 'Black', 'Other', 'White'],\n",
       " 7: ['Female', 'Male'],\n",
       " 8: ['0', '1', '2'],\n",
       " 9: ['0', '1', '2'],\n",
       " 11: ['?',\n",
       "  'Cambodia',\n",
       "  'Canada',\n",
       "  'China',\n",
       "  'Columbia',\n",
       "  'Cuba',\n",
       "  'Dominican-Republic',\n",
       "  'Ecuador',\n",
       "  'El-Salvador',\n",
       "  'England',\n",
       "  'France',\n",
       "  'Germany',\n",
       "  'Greece',\n",
       "  'Guatemala',\n",
       "  'Haiti',\n",
       "  'Holand-Netherlands',\n",
       "  'Honduras',\n",
       "  'Hong',\n",
       "  'Hungary',\n",
       "  'India',\n",
       "  'Iran',\n",
       "  'Ireland',\n",
       "  'Italy',\n",
       "  'Jamaica',\n",
       "  'Japan',\n",
       "  'Laos',\n",
       "  'Mexico',\n",
       "  'Nicaragua',\n",
       "  'Outlying-US(Guam-USVI-etc)',\n",
       "  'Peru',\n",
       "  'Philippines',\n",
       "  'Poland',\n",
       "  'Portugal',\n",
       "  'Puerto-Rico',\n",
       "  'Scotland',\n",
       "  'South',\n",
       "  'Taiwan',\n",
       "  'Thailand',\n",
       "  'Trinadad&Tobago',\n",
       "  'United-States',\n",
       "  'Vietnam',\n",
       "  'Yugoslavia'],\n",
       " 0: ['Age <= 28.00',\n",
       "  '28.00 < Age <= 37.00',\n",
       "  '37.00 < Age <= 48.00',\n",
       "  'Age > 48.00'],\n",
       " 10: ['Hours per week <= 40.00',\n",
       "  '40.00 < Hours per week <= 45.00',\n",
       "  'Hours per week > 45.00']}"
      ]
     },
     "execution_count": 37,
     "metadata": {},
     "output_type": "execute_result"
    }
   ],
   "source": [
    "dataset.categorical_names"
   ]
  },
  {
   "cell_type": "code",
   "execution_count": 14,
   "metadata": {},
   "outputs": [
    {
     "name": "stdout",
     "output_type": "stream",
     "text": [
      "Train 0.9234874078624079\n",
      "Test 0.8385016886705557\n"
     ]
    }
   ],
   "source": [
    "c = sklearn.ensemble.RandomForestClassifier(n_estimators=50, n_jobs=5)\n",
    "c.fit(explainer.encoder.transform(dataset.train), dataset.labels_train)\n",
    "predict_fn = lambda x: c.predict(explainer.encoder.transform(x))\n",
    "print('Train', sklearn.metrics.accuracy_score(dataset.labels_train, predict_fn(dataset.train)))\n",
    "print('Test', sklearn.metrics.accuracy_score(dataset.labels_test, predict_fn(dataset.test)))"
   ]
  },
  {
   "cell_type": "code",
   "execution_count": 15,
   "metadata": {},
   "outputs": [
    {
     "name": "stdout",
     "output_type": "stream",
     "text": [
      "Prediction:  b'>50K'\n"
     ]
    }
   ],
   "source": [
    "idx = 0\n",
    "np.random.seed(1)\n",
    "print('Prediction: ', explainer.class_names[predict_fn(dataset.test[idx].reshape(1, -1))[0]])\n",
    "exp = explainer.explain_instance(dataset.test[idx], c.predict, threshold=0.95)"
   ]
  },
  {
   "cell_type": "code",
   "execution_count": 16,
   "metadata": {},
   "outputs": [
    {
     "name": "stdout",
     "output_type": "stream",
     "text": [
      "Anchor: Occupation = Tech-support AND Marital Status = Married-civ-spouse AND Relationship = Husband AND Age > 48.00 AND Education = Assoc-voc AND Sex = Male\n",
      "Precision: 0.95\n",
      "Coverage: 0.00\n"
     ]
    }
   ],
   "source": [
    "print('Anchor: %s' % (' AND '.join(exp.names())))\n",
    "print('Precision: %.2f' % exp.precision())\n",
    "print('Coverage: %.2f' % exp.coverage())"
   ]
  },
  {
   "cell_type": "code",
   "execution_count": 17,
   "metadata": {},
   "outputs": [
    {
     "name": "stdout",
     "output_type": "stream",
     "text": [
      "Anchor test coverage: 0.00\n",
      "Anchor test precision: 1.00\n"
     ]
    }
   ],
   "source": [
    "# Get test examples where the anchora pplies\n",
    "fit_anchor = np.where(np.all(dataset.test[:, exp.features()] == dataset.test[idx][exp.features()], axis=1))[0]\n",
    "print('Anchor test coverage: %.2f' % (fit_anchor.shape[0] / float(dataset.test.shape[0])))\n",
    "print('Anchor test precision: %.2f' % (np.mean(predict_fn(dataset.test[fit_anchor]) == predict_fn(dataset.test[idx].reshape(1, -1)))))"
   ]
  },
  {
   "cell_type": "code",
   "execution_count": 18,
   "metadata": {},
   "outputs": [
    {
     "name": "stdout",
     "output_type": "stream",
     "text": [
      "Partial anchor: Occupation = Tech-support AND Marital Status = Married-civ-spouse\n",
      "Partial precision: 0.39\n",
      "Partial coverage: 0.01\n"
     ]
    }
   ],
   "source": [
    "print('Partial anchor: %s' % (' AND '.join(exp.names(1))))\n",
    "print('Partial precision: %.2f' % exp.precision(1))\n",
    "print('Partial coverage: %.2f' % exp.coverage(1))"
   ]
  },
  {
   "cell_type": "code",
   "execution_count": null,
   "metadata": {},
   "outputs": [],
   "source": []
  }
 ],
 "metadata": {
  "kernelspec": {
   "display_name": "gpuplease",
   "language": "python",
   "name": "gpuplease"
  }
 },
 "nbformat": 4,
 "nbformat_minor": 2
}
