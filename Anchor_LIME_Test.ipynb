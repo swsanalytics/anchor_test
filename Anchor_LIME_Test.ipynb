{
 "cells": [
  {
   "cell_type": "code",
   "execution_count": 2,
   "metadata": {},
   "outputs": [],
   "source": [
    "from sklearn.datasets import load_iris\n",
    "import pandas as pd \n",
    "data = load_iris()\n",
    "from __future__ import print_function\n",
    "import numpy as np\n",
    "np.random.seed(1)\n",
    "import sys\n",
    "import sklearn\n",
    "import sklearn.ensemble\n",
    "%load_ext autoreload\n",
    "%autoreload 2\n",
    "from anchor import utils\n",
    "from anchor import anchor_tabular"
   ]
  },
  {
   "cell_type": "code",
   "execution_count": 3,
   "metadata": {},
   "outputs": [],
   "source": [
    "y = data.target[1:70]\n",
    "x = data.data[1:70]\n",
    "\n",
    "x = pd.DataFrame(x)\n",
    "x.columns = ['x1', 'x2', 'x3', 'x4']\n",
    "\n",
    "x['x1'] = np.where(x['x1'] >5, 1, 0)\n",
    "x['x2'] = np.where(x['x2'] >3, 1, 0)\n",
    "x['x3'] = np.where(x['x3'] >1, 1, 0)\n",
    "x['x4'] = np.where(x['x4'] >1, 1, 0)"
   ]
  },
  {
   "cell_type": "code",
   "execution_count": 4,
   "metadata": {},
   "outputs": [],
   "source": [
    "from sklearn.model_selection import train_test_split\n",
    "\n",
    "iris_train, VALID, y_train, VALIDy = train_test_split(x, y, random_state=40)"
   ]
  },
  {
   "cell_type": "code",
   "execution_count": 5,
   "metadata": {},
   "outputs": [],
   "source": [
    "iris_valid, iris_test, y_valid, y_test = train_test_split(VALID, VALIDy, random_state=40)"
   ]
  },
  {
   "cell_type": "code",
   "execution_count": 6,
   "metadata": {},
   "outputs": [],
   "source": [
    "class_names = ['setosa', 'versicolor']\n",
    "feature_names = ['x1', 'x2', 'x3', 'x4']\n",
    "categorical_names = {0 : ['1','0'],\n",
    "            1 : ['1','0'],\n",
    "            2 : ['1','0'],\n",
    "            3 : ['1', '0']}\n"
   ]
  },
  {
   "cell_type": "code",
   "execution_count": 9,
   "metadata": {},
   "outputs": [],
   "source": [
    "iris_train = np.array(iris_train)\n",
    "y_train = np.array(y_train)\n",
    "iris_valid = np.array(iris_valid)\n",
    "y_valid = np.array(y_valid)\n",
    "iris_test = np.array(iris_test)\n",
    "y_test = np.array(y_test)"
   ]
  },
  {
   "cell_type": "code",
   "execution_count": 10,
   "metadata": {},
   "outputs": [
    {
     "name": "stderr",
     "output_type": "stream",
     "text": [
      "/home/spenser/.local/lib/python3.6/site-packages/sklearn/utils/validation.py:475: DataConversionWarning: Data with input dtype int64 was converted to float64 by StandardScaler.\n",
      "  warnings.warn(msg, DataConversionWarning)\n"
     ]
    }
   ],
   "source": [
    "\n",
    "explainer = anchor_tabular.AnchorTabularExplainer(class_names, feature_names, x, categorical_names)\n",
    "explainer.fit(iris_train, y_train, iris_valid, y_valid)"
   ]
  },
  {
   "cell_type": "code",
   "execution_count": 11,
   "metadata": {},
   "outputs": [],
   "source": [
    "c = sklearn.ensemble.RandomForestClassifier(n_estimators=50, n_jobs=5)\n",
    "c.fit(explainer.encoder.transform(iris_train), y_train)\n",
    "predict_fn = lambda x: c.predict(explainer.encoder.transform(x))\n"
   ]
  },
  {
   "cell_type": "code",
   "execution_count": 12,
   "metadata": {},
   "outputs": [],
   "source": [
    "idx = 0\n",
    "np.random.seed(1)\n",
    "exp = explainer.explain_instance(iris_test[3], c.predict, threshold=0.95)"
   ]
  },
  {
   "cell_type": "code",
   "execution_count": 13,
   "metadata": {},
   "outputs": [
    {
     "name": "stdout",
     "output_type": "stream",
     "text": [
      "Anchor: x4 = 1\n",
      "Anchor test coverage: 0.10\n",
      "Anchor test precision: 1.00\n"
     ]
    }
   ],
   "source": [
    "# Get test examples where the anchora pplies\n",
    "fit_anchor = np.where(np.all(iris_test[:, exp.features()] == iris_test[idx][exp.features()], axis=1))[0]\n",
    "print('Anchor: %s' % (' AND '.join(exp.names())))\n",
    "print('Anchor test coverage: %.2f' % (fit_anchor.shape[0] / float(iris_train.shape[0])))\n",
    "print('Anchor test precision: %.2f' % (np.mean(predict_fn(iris_test[fit_anchor]) == predict_fn(iris_test[idx].reshape(1, -1)))))"
   ]
  },
  {
   "cell_type": "code",
   "execution_count": null,
   "metadata": {},
   "outputs": [],
   "source": []
  }
 ],
 "metadata": {
  "kernelspec": {
   "display_name": "gpuplease",
   "language": "python",
   "name": "gpuplease"
  },
  "language_info": {
   "codemirror_mode": {
    "name": "ipython",
    "version": 3
   },
   "file_extension": ".py",
   "mimetype": "text/x-python",
   "name": "python",
   "nbconvert_exporter": "python",
   "pygments_lexer": "ipython3",
   "version": "3.6.5"
  }
 },
 "nbformat": 4,
 "nbformat_minor": 2
}
